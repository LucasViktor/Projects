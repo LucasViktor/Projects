{
 "cells": [
  {
   "cell_type": "markdown",
   "metadata": {},
   "source": [
    "# CALCULATOR"
   ]
  },
  {
   "cell_type": "code",
   "execution_count": null,
   "metadata": {},
   "outputs": [],
   "source": [
    "#Calculator by Lucas Victor, Rio de Janeiro 2021,June.\n",
    "from numpy import log10, sqrt"
   ]
  },
  {
   "cell_type": "code",
   "execution_count": 5,
   "metadata": {},
   "outputs": [],
   "source": [
    "def calculator():\n",
    "    print('Welcome to Lcalculator!\\n')\n",
    "    var = float(input('Choice the operation\\n 1 - sum\\n 2 - subtration\\n 3 - multiplication \\n 4 - division \\n 5 -root squared \\n 6 - logarithmic\\n'))\n",
    "    print('option selected is: ',var)\n",
    "    #sum\n",
    "    if var == 1:\n",
    "        x = float(input('insert the first number: '))\n",
    "        y = float(input('insert the first number: '))\n",
    "        sum_l = lambda x,y:x+y\n",
    "        print(str(x)+' + '+str(y)+' = ',sum_l(x,y))\n",
    "    #subtraction\n",
    "    elif var == 2:\n",
    "        x = float(input('insert the first number: '))\n",
    "        y = float(input('insert the first number: '))\n",
    "        sub_l = lambda x,y:x-y\n",
    "        print(str(x)+' - '+str(y)+' = ',sub_l(x,y))\n",
    "    #multiplication\n",
    "    elif var == 3:\n",
    "        x = float(input('insert the first number: '))\n",
    "        y = float(input('insert the first number: '))\n",
    "        mult_l = lambda x,y:x*y\n",
    "        print(str(x)+'*'+str(y)+' = ',mult_l(x,y))\n",
    "    #division\n",
    "    elif var == 4:\n",
    "        x = float(input('insert the first number: '))\n",
    "        y = float(input('insert the first number: '))\n",
    "        div_l = lambda x,y:x/y\n",
    "        print(str(x)+'/'+str(y)+' = ',div_l(x,y))\n",
    "    #root squared\n",
    "    elif var == 5:\n",
    "        x = float(input('insert the number: '))\n",
    "        sqrt_l = lambda x: round(sqrt(x),2)\n",
    "        print('the root squared of '+str(x)+' = ',sqrt_l(x))\n",
    "    #logarithmic\n",
    "    elif var == 6:\n",
    "        x = float(input('insert the number: '))\n",
    "        log_l = lambda x: log10(x)\n",
    "        print('log of '+str(x)+' = ',round(log_l(x),2))\n",
    "    else:\n",
    "        print('invalid option')"
   ]
  },
  {
   "cell_type": "code",
   "execution_count": 6,
   "metadata": {},
   "outputs": [
    {
     "name": "stdout",
     "output_type": "stream",
     "text": [
      "Welcome to Lcalculator!\n",
      "\n",
      "Choice the operation\n",
      " 1 - sum\n",
      " 2 - subtration\n",
      " 3 - multiplication \n",
      " 4 - division \n",
      " 5 -root squared \n",
      " 6 - logarithmic\n",
      "5\n",
      "option selected is:  5.0\n",
      "insert the number: 789\n",
      "the root squared of 789.0 =  28.09\n"
     ]
    }
   ],
   "source": [
    "calculator()"
   ]
  },
  {
   "cell_type": "code",
   "execution_count": null,
   "metadata": {},
   "outputs": [],
   "source": []
  },
  {
   "cell_type": "code",
   "execution_count": null,
   "metadata": {},
   "outputs": [],
   "source": []
  },
  {
   "cell_type": "code",
   "execution_count": null,
   "metadata": {},
   "outputs": [],
   "source": []
  },
  {
   "cell_type": "code",
   "execution_count": null,
   "metadata": {},
   "outputs": [],
   "source": []
  }
 ],
 "metadata": {
  "kernelspec": {
   "display_name": "Python 3",
   "language": "python",
   "name": "python3"
  },
  "language_info": {
   "codemirror_mode": {
    "name": "ipython",
    "version": 3
   },
   "file_extension": ".py",
   "mimetype": "text/x-python",
   "name": "python",
   "nbconvert_exporter": "python",
   "pygments_lexer": "ipython3",
   "version": "3.8.3"
  }
 },
 "nbformat": 4,
 "nbformat_minor": 4
}
